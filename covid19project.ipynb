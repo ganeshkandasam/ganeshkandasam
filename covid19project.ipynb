{
 "cells": [
  {
   "cell_type": "code",
   "execution_count": 32,
   "id": "739cb37b-78ce-4490-8271-8b533a73c0e6",
   "metadata": {},
   "outputs": [
    {
     "name": "stdout",
     "output_type": "stream",
     "text": [
      "🔍 Columns: ['Data as of', 'Start Date', 'End Date', 'MMWR Year', 'MMWR Week', 'Week Ending Date', 'HRR Name', 'HRR Number', 'State', 'Total Deaths', 'COVID-19 Deaths', 'Total Deaths over 65 years', 'COVID-19 Deaths over 65 years', 'Total Deaths 65 to 74 years', 'COVID-19 Deaths 65 to 74 years', 'Total Deaths 75 to 84 years', 'COVID-19 Deaths 75 to 84 years', 'Total Deaths over 85 years', 'COVID-19 Deaths over 85 years', 'Footnote', 'Accuracy_index']\n",
      "✅ Using: Date='Week Ending Date', Deaths='COVID-19 Deaths', Region='HRR Name'\n"
     ]
    },
    {
     "data": {
      "image/png": "[encoded data removed]",
      "text/plain": [
       "<Figure size 1000x600 with 1 Axes>"
      ]
     },
     "metadata": {},
     "output_type": "display_data"
    },
    {
     "data": {
      "application/vnd.jupyter.widget-view+json": {
       "model_id": "32f2fb103d724cf99546dd1f3f1c1ced",
       "version_major": 2,
       "version_minor": 0
      },
      "text/plain": [
       "interactive(children=(Dropdown(description='Year:', options=(np.int32(2015), np.int32(2016), np.int32(2017), n…"
      ]
     },
     "metadata": {},
     "output_type": "display_data"
    },
    {
     "data": {
      "text/plain": [
       "<function __main__.plot_by_year(yr)>"
      ]
     },
     "execution_count": 32,
     "metadata": {},
     "output_type": "execute_result"
    }
   ],
   "source": [
    "import pandas as pd\n",
    "import matplotlib.pyplot as plt\n",
    "import ipywidgets as widgets\n",
    "\n",
    "# 1) Load & display your columns\n",
    "file_path = r\"C:\\Users\\Ganesh\\Downloads\\AH_Provisional_COVID-19_Deaths_by_Hospital_Referral_Region.csv\"\n",
    "df = pd.read_csv(file_path)\n",
    "df.columns = df.columns.str.strip()\n",
    "print(\"🔍 Columns:\", df.columns.tolist())\n",
    "\n",
    "# 2) Auto-detect key columns\n",
    "def find_column(fragments):\n",
    "    for frag in fragments:\n",
    "        for col in df.columns:\n",
    "            if frag.lower() in col.lower():\n",
    "                return col\n",
    "    return None\n",
    "\n",
    "date_col   = find_column([\"week ending\", \"end date\", \"start date\"])\n",
    "death_col  = find_column([\"covid-19 deaths\", \"total deaths\"])\n",
    "region_col = find_column([\"hrr name\", \"hrr\", \"region\", \"referral\"])\n",
    "\n",
    "if not date_col:   raise KeyError(\"Date column not detected—check printed list above.\")\n",
    "if not death_col:  raise KeyError(\"Death column not detected—check printed list above.\")\n",
    "if not region_col: raise KeyError(\"Region column not detected—check printed list above.\")\n",
    "\n",
    "print(f\"✅ Using: Date='{date_col}', Deaths='{death_col}', Region='{region_col}'\")\n",
    "\n",
    "# 3) Clean & prepare data\n",
    "df[date_col]  = pd.to_datetime(df[date_col], errors='coerce')\n",
    "df = df.dropna(subset=[date_col])\n",
    "df['Year']    = df[date_col].dt.year\n",
    "df[death_col] = pd.to_numeric(df[death_col], errors='coerce').fillna(0)\n",
    "\n",
    "# 4) Plot total deaths per year with matplotlib to avoid seaborn warning\n",
    "yearly = df.groupby('Year')[death_col].sum().reset_index()\n",
    "plt.figure(figsize=(10,6))\n",
    "plt.bar(yearly['Year'].astype(str), yearly[death_col])\n",
    "plt.title('Total COVID-19 Deaths per Year')\n",
    "plt.xlabel('Year')\n",
    "plt.ylabel('Deaths')\n",
    "plt.grid(axis='y')\n",
    "plt.tight_layout()\n",
    "plt.show()\n",
    "\n",
    "# 5) Interactive top-10 regions by year\n",
    "def plot_by_year(yr):\n",
    "    top10 = (df[df['Year']==yr]\n",
    "             .groupby(region_col)[death_col]\n",
    "             .sum()\n",
    "             .sort_values(ascending=False)\n",
    "             .head(10))\n",
    "    plt.figure(figsize=(12,6))\n",
    "    plt.bar(top10.index, top10.values)\n",
    "    plt.title(f'Top 10 {region_col}s in {yr}')\n",
    "    plt.xlabel(region_col)\n",
    "    plt.ylabel('Deaths')\n",
    "    plt.xticks(rotation=45, ha='right')\n",
    "    plt.grid(axis='y')\n",
    "    plt.tight_layout()\n",
    "    plt.show()\n",
    "\n",
    "widgets.interact(\n",
    "    plot_by_year,\n",
    "    yr=widgets.Dropdown(\n",
    "        options=sorted(df['Year'].unique()),\n",
    "        description='Year:',\n",
    "        style={'description_width':'initial'}\n",
    "    )\n",
    ")\n"
   ]
  },
  {
   "cell_type": "code",
   "execution_count": null,
   "id": "bce8addc-a263-41aa-b3ea-ced7ebeef57b",
   "metadata": {},
   "outputs": [],
   "source": []
  }
 ],
 "metadata": {
  "kernelspec": {
   "display_name": "Python 3 (ipykernel)",
   "language": "python",
   "name": "python3"
  },
  "language_info": {
   "codemirror_mode": {
    "name": "ipython",
    "version": 3
   },
   "file_extension": ".py",
   "mimetype": "text/x-python",
   "name": "python",
   "nbconvert_exporter": "python",
   "pygments_lexer": "ipython3",
   "version": "3.12.4"
  }
 },
 "nbformat": 4,
 "nbformat_minor": 5
}
